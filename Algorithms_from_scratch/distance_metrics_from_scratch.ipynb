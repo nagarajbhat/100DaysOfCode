{
 "cells": [
  {
   "cell_type": "markdown",
   "metadata": {},
   "source": [
    "# Distances metrics from scratch"
   ]
  },
  {
   "cell_type": "markdown",
   "metadata": {},
   "source": [
    "For real valued vector space (continous variables) -\n",
    "1. Euclidean (Pythagorean theoram)\n",
    "2. Manhattan (Also known as cityblock distance, or taxicab geometry)\n",
    "3. chebyshev\n",
    "3. Minkowski (generalized dsitance metrics)\n",
    "\n",
    "Metrics for integer valued vector space (categorical data) - \n",
    "\n",
    "4. Hamming (metrics for comparing two binary strings)\n",
    "\n"
   ]
  },
  {
   "cell_type": "markdown",
   "metadata": {},
   "source": [
    "### Preference (Euclidean vs manhattan - high dimentional data) \n",
    "- Many high dimensional indexing structures and algorithms use the euclidean distance metric as a natural\n",
    "extension of its traditional use in two- or three-dimensional spatial applications (refer paper [2] )\n",
    "- the Manhattan distance metric (L1 norm) is consistently more preferable than the\n",
    "Euclidean distance metric (L2 norm) for high dimensional data mining\n",
    "applications - (refer paper [2] )"
   ]
  },
  {
   "cell_type": "markdown",
   "metadata": {},
   "source": [
    "## Getting pairwise distance metrics using sklearn's Distance metrics"
   ]
  },
  {
   "cell_type": "code",
   "execution_count": 1,
   "metadata": {},
   "outputs": [],
   "source": [
    "from sklearn.neighbors import DistanceMetric\n",
    "import sklearn"
   ]
  },
  {
   "cell_type": "code",
   "execution_count": 2,
   "metadata": {},
   "outputs": [
    {
     "data": {
      "text/plain": [
       "array([[0.        , 8.48528137],\n",
       "       [8.48528137, 0.        ]])"
      ]
     },
     "execution_count": 2,
     "metadata": {},
     "output_type": "execute_result"
    }
   ],
   "source": [
    "dist = DistanceMetric.get_metric('euclidean') #euclidean\n",
    "X = [[1,2],[7,8]]\n",
    "dist.pairwise(X)\n"
   ]
  },
  {
   "cell_type": "code",
   "execution_count": 3,
   "metadata": {},
   "outputs": [
    {
     "data": {
      "text/plain": [
       "array([[ 0., 12.],\n",
       "       [12.,  0.]])"
      ]
     },
     "execution_count": 3,
     "metadata": {},
     "output_type": "execute_result"
    }
   ],
   "source": [
    "DistanceMetric.get_metric('manhattan').pairwise(X) #manhattan"
   ]
  },
  {
   "cell_type": "code",
   "execution_count": 4,
   "metadata": {},
   "outputs": [
    {
     "data": {
      "text/plain": [
       "array([[0.        , 8.48528137],\n",
       "       [8.48528137, 0.        ]])"
      ]
     },
     "execution_count": 4,
     "metadata": {},
     "output_type": "execute_result"
    }
   ],
   "source": [
    "DistanceMetric.get_metric('minkowski').pairwise(X) #minkowski"
   ]
  },
  {
   "cell_type": "code",
   "execution_count": 5,
   "metadata": {},
   "outputs": [
    {
     "data": {
      "text/plain": [
       "array([[0., 1.],\n",
       "       [1., 0.]])"
      ]
     },
     "execution_count": 5,
     "metadata": {},
     "output_type": "execute_result"
    }
   ],
   "source": [
    "DistanceMetric.get_metric('hamming').pairwise(X) #hamming"
   ]
  },
  {
   "cell_type": "code",
   "execution_count": 6,
   "metadata": {},
   "outputs": [
    {
     "data": {
      "text/plain": [
       "array([[0., 6.],\n",
       "       [6., 0.]])"
      ]
     },
     "execution_count": 6,
     "metadata": {},
     "output_type": "execute_result"
    }
   ],
   "source": [
    "DistanceMetric.get_metric('chebyshev').pairwise(X) #chebyshev"
   ]
  },
  {
   "cell_type": "markdown",
   "metadata": {},
   "source": [
    "## Calculating distance metrics using scipy"
   ]
  },
  {
   "cell_type": "code",
   "execution_count": 23,
   "metadata": {},
   "outputs": [
    {
     "data": {
      "text/plain": [
       "8.48528137423857"
      ]
     },
     "execution_count": 23,
     "metadata": {},
     "output_type": "execute_result"
    }
   ],
   "source": [
    "from scipy.spatial import distance\n",
    "distance.euclidean(X[0],X[1])"
   ]
  },
  {
   "cell_type": "code",
   "execution_count": 24,
   "metadata": {},
   "outputs": [
    {
     "data": {
      "text/plain": [
       "12"
      ]
     },
     "execution_count": 24,
     "metadata": {},
     "output_type": "execute_result"
    }
   ],
   "source": [
    "distance.cityblock(X[0],X[1]) #manhattan - named as cityblock in scipy"
   ]
  },
  {
   "cell_type": "markdown",
   "metadata": {},
   "source": [
    "## Writing my own pairwise Distance metrics from scratch"
   ]
  },
  {
   "cell_type": "code",
   "execution_count": 7,
   "metadata": {},
   "outputs": [],
   "source": [
    "\n",
    "# Made use of Inner class \n",
    "\n",
    "#covers euclidean and manhattan distance metrics\n",
    "\n",
    "class MyDistanceMetrics:\n",
    "    \n",
    "    def __init__(self):\n",
    "        self.metric = ''\n",
    "        self.cl = ''\n",
    "    \n",
    "    def get_metric(metric):\n",
    "        if metric == 'euclidean':\n",
    "            cl = Euclidean\n",
    "        elif metric == 'manhattan':\n",
    "            cl = Manhattan\n",
    "        return cl\n",
    "    \n",
    "        \n",
    "    \n",
    "\n",
    "class Euclidean:\n",
    "    def __init__(self,X):\n",
    "        self.X = X\n",
    "    def pairwise(X):\n",
    "        pwise = []\n",
    "        for i in range(len(X)):\n",
    "            templist = []\n",
    "            for j in range(len(X[i])):\n",
    "                templist.append(math.sqrt((X[i][i]-X[j][i])**2 + (X[i][j]-X[j][j])**2))\n",
    "            pwise.append(templist)\n",
    "        return pwise\n",
    "   \n",
    "\n",
    "class Manhattan:\n",
    "        def __init__(self,X):\n",
    "            self.X=X\n",
    "            \n",
    "        def pairwise(X):\n",
    "            pwise = []\n",
    "            for i in range(len(X)):\n",
    "                templist = []\n",
    "                for j in range(len(X[i])):\n",
    "                    templist.append(abs(X[i][i]-X[j][i]) + abs(X[i][j]-X[j][j]))\n",
    "                pwise.append(templist)\n",
    "            return pwise\n",
    "        \n",
    "        \n",
    "\n",
    "    "
   ]
  },
  {
   "cell_type": "code",
   "execution_count": 25,
   "metadata": {},
   "outputs": [
    {
     "data": {
      "text/plain": [
       "array([[0.        , 8.48528137],\n",
       "       [8.48528137, 0.        ]])"
      ]
     },
     "execution_count": 25,
     "metadata": {},
     "output_type": "execute_result"
    }
   ],
   "source": [
    "# calculation of metrics\n",
    "dsit = MyDistanceMetrics.get_metric('euclidean') #euclidean\n",
    "dist.pairwise(X)\n",
    "\n"
   ]
  },
  {
   "cell_type": "code",
   "execution_count": 27,
   "metadata": {},
   "outputs": [
    {
     "data": {
      "text/plain": [
       "[[0, 12], [12, 0]]"
      ]
     },
     "execution_count": 27,
     "metadata": {},
     "output_type": "execute_result"
    }
   ],
   "source": [
    "MyDistanceMetrics.get_metric('manhattan').pairwise(X) #manhattan"
   ]
  },
  {
   "cell_type": "markdown",
   "metadata": {},
   "source": [
    "## Resources:\n",
    "- [1] [Sklearn Distance metrics - Docs](https://scikit-learn.org/stable/modules/generated/sklearn.neighbors.DistanceMetric.html)\n",
    "- [2] [On the Surprising Behavior of Distance Metrics\n",
    "in High Dimensional Space - Paper](https://bib.dbvis.de/uploadedFiles/155.pdf)\n",
    "- [3] [Different Types of Distance Metrics used in Machine Learning - blog](https://medium.com/@kunal_gohrani/different-types-of-distance-metrics-used-in-machine-learning-e9928c5e26c7)\n"
   ]
  }
 ],
 "metadata": {
  "kernelspec": {
   "display_name": "Python 3",
   "language": "python",
   "name": "python3"
  },
  "language_info": {
   "codemirror_mode": {
    "name": "ipython",
    "version": 3
   },
   "file_extension": ".py",
   "mimetype": "text/x-python",
   "name": "python",
   "nbconvert_exporter": "python",
   "pygments_lexer": "ipython3",
   "version": "3.7.4"
  }
 },
 "nbformat": 4,
 "nbformat_minor": 4
}
